{
 "cells": [
  {
   "cell_type": "markdown",
   "metadata": {},
   "source": [
    "# Computation of the glass transition temperature"
   ]
  },
  {
   "cell_type": "markdown",
   "metadata": {},
   "source": [
    "The implemented method is based on the work of Patrone *et al* (P.N. Patrone, A. Dienstfrey, A.R. Browning, S. Tucker, S. Christensen \"Uncertainty Quantification in Molecular Dynamics Studies of the Glass Transition Temperature\" Polymer 87 (2016) 246-259). It assumes that a single hyberpola, as defined by Eq. (1) in Patrone *et al* and shown below, fits density vs temperature data for the entire temperature range.\n",
    "\n",
    "$\\rho \\left(T \\right) = \\rho_0 - \\alpha \\left( T - T_0 \\right) -\\beta H\\left(T, T_0, \\gamma \\right)$\n",
    "\n",
    "$H\\left(T, T_0, \\gamma \\right) = \\frac{1}{2} \\left( T - T_0 \\right) + \\sqrt{\\frac{\\left( T - T_0 \\right)^2}{4} + \\exp(\\gamma)}$"
   ]
  },
  {
   "cell_type": "markdown",
   "metadata": {},
   "source": [
    "The current implementation requires the numpy, scipy and matplotlib modules to be installed."
   ]
  },
  {
   "cell_type": "code",
   "execution_count": 5,
   "metadata": {},
   "outputs": [],
   "source": [
    "%matplotlib inline\n",
    "\n",
    "import numpy as np\n",
    "from scipy.optimize import curve_fit\n",
    "import matplotlib.pyplot as plt"
   ]
  },
  {
   "cell_type": "markdown",
   "metadata": {},
   "source": [
    "The user has to specify two input parameters in the cell below. The first one is a string with the full path and name of an ASCII file which contains the temperature-density or temperature-specific volume data. The file is expected to have two columns, the first one is the temperature in Kelvin and the second one is the density or the specific volume. Note that the actual units of the density or specific volume are not important. The first line of the file is ignored as it is assumed to be a comment line. The second input parameter is a boolean named \"density_flag\" which specifies if the supplied data are for density (in this case it is true) or for specific volume (in this case it is false)."
   ]
  },
  {
   "cell_type": "code",
   "execution_count": 6,
   "metadata": {},
   "outputs": [],
   "source": [
    "filename = \"\" # the full path and name of the data with the actual data to fit\n",
    "density_flag = True # True if the data are for density - False if the data are for specific volume"
   ]
  },
  {
   "cell_type": "markdown",
   "metadata": {},
   "source": [
    "The <span style=\"font-family:Consolas\"> density_hyperbola </span> function defined below is a helper function for fitting of the data. It codes the hyperbola defined previously."
   ]
  },
  {
   "cell_type": "code",
   "execution_count": 7,
   "metadata": {},
   "outputs": [],
   "source": [
    "def density_hyperbola(x, rho0, t0, alpha, bita, gamma):\n",
    "    dT = x - t0\n",
    "    H0 = 0.5 * dT + np.sqrt(0.25 * dT * dT + np.exp(gamma))\n",
    "    rho = rho0 - alpha * dT - bita * H0\n",
    "    return rho"
   ]
  },
  {
   "cell_type": "markdown",
   "metadata": {},
   "source": [
    "This step performs the actual fitting of the hyperbola to the provided data using the Levenberg-Marquardt algorithm. The input density vs temperature data as well as the predicted values are shown in a plot. The predicted glass transition temperature and the values of all parameters are also printed."
   ]
  },
  {
   "cell_type": "code",
   "execution_count": 8,
   "metadata": {},
   "outputs": [
    {
     "data": {
      "image/png": "[encoded data removed]",
      "text/plain": [
       "<Figure size 432x288 with 1 Axes>"
      ]
     },
     "metadata": {
      "needs_background": "light"
     },
     "output_type": "display_data"
    },
    {
     "name": "stdout",
     "output_type": "stream",
     "text": [
      "The predicted Tg value is 46.4912 Kelvin\n",
      "The values of the parameters are: \n",
      "        ρ_0: 1932.4404\n",
      "        α: -47.1053\n",
      "        β: -105.2632\n",
      "        γ: -87.1231\n"
     ]
    }
   ],
   "source": [
    "temperature, measurement = np.loadtxt(filename, skiprows=1, unpack=True)\n",
    "\n",
    "# convert data for specific volume into data for density\n",
    "if density_flag:\n",
    "    density = measurement\n",
    "else:\n",
    "    density = 1.0/measurement\n",
    "\n",
    "# perform the fitting using the hyperbola function\n",
    "param, param_cov = curve_fit(density_hyperbola, temperature, density)\n",
    "\n",
    "# plot the final results\n",
    "plt.plot(temperature, density_hyperbola(temperature, param[0], param[1], param[2], param[3], param[4]), label=\"Computed\")\n",
    "plt.plot(temperature, density, \"o\", label=\"Experimental\")\n",
    "plt.ylabel(\"Density\")\n",
    "plt.xlabel(\"Temperature [Kelvin]\")\n",
    "plt.legend()\n",
    "plt.show()\n",
    "\n",
    "# print the values of the parameters and the actual Tg\n",
    "print(f\"The predicted Tg value is {param[1]:.4f} Kelvin\")\n",
    "print(f\"The values of the parameters are: \\n\\\n",
    "        \\N{GREEK SMALL LETTER RHO}_0: {param[0]:.4f}\\n\\\n",
    "        \\N{GREEK SMALL LETTER ALPHA}: {param[2]:.4f}\\n\\\n",
    "        \\N{GREEK SMALL LETTER BETA}: {param[3]:.4f}\\n\\\n",
    "        \\N{GREEK SMALL LETTER GAMMA}: {param[4]:.4f}\")"
   ]
  }
 ],
 "metadata": {
  "kernelspec": {
   "display_name": "Python 3",
   "language": "python",
   "name": "python3"
  },
  "language_info": {
   "codemirror_mode": {
    "name": "ipython",
    "version": 3
   },
   "file_extension": ".py",
   "mimetype": "text/x-python",
   "name": "python",
   "nbconvert_exporter": "python",
   "pygments_lexer": "ipython3",
   "version": "3.7.1"
  }
 },
 "nbformat": 4,
 "nbformat_minor": 2
}
